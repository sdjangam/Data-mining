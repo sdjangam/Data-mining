{
 "cells": [
  {
   "cell_type": "code",
   "execution_count": 1,
   "metadata": {
    "collapsed": true
   },
   "outputs": [],
   "source": [
    "from IPython.core.interactiveshell import InteractiveShell\n",
    "InteractiveShell.ast_node_interactivity = \"all\"\n",
    "%matplotlib inline"
   ]
  },
  {
   "cell_type": "markdown",
   "metadata": {},
   "source": [
    "# Hand-computing support and confidence"
   ]
  },
  {
   "cell_type": "code",
   "execution_count": 2,
   "metadata": {
    "collapsed": true
   },
   "outputs": [],
   "source": [
    "from sympy import *\n",
    "from itertools import combinations\n",
    "#init_printing()"
   ]
  },
  {
   "cell_type": "markdown",
   "metadata": {},
   "source": [
    "I want to generate k-subsets from a given set."
   ]
  },
  {
   "cell_type": "code",
   "execution_count": 3,
   "metadata": {
    "collapsed": true
   },
   "outputs": [],
   "source": [
    "def subsets(S, k):\n",
    "  return [set(s)\n",
    "    for s in combinations(S, k)]"
   ]
  },
  {
   "cell_type": "code",
   "execution_count": 4,
   "metadata": {},
   "outputs": [
    {
     "data": {
      "text/plain": [
       "[{1, 2}, {1, 3}, {2, 3}]"
      ]
     },
     "execution_count": 4,
     "metadata": {},
     "output_type": "execute_result"
    }
   ],
   "source": [
    "subsets({1, 2, 3}, 2)"
   ]
  },
  {
   "cell_type": "markdown",
   "metadata": {},
   "source": [
    "And sometimes I want to print a list, each on its own line:"
   ]
  },
  {
   "cell_type": "code",
   "execution_count": 5,
   "metadata": {
    "collapsed": true
   },
   "outputs": [],
   "source": [
    "def print_all(iterable):\n",
    "  for item in iterable:\n",
    "    print(item)"
   ]
  },
  {
   "cell_type": "code",
   "execution_count": 6,
   "metadata": {},
   "outputs": [
    {
     "name": "stdout",
     "output_type": "stream",
     "text": [
      "1\n",
      "2\n",
      "3\n"
     ]
    }
   ],
   "source": [
    "print_all([1, 2, 3])"
   ]
  },
  {
   "cell_type": "markdown",
   "metadata": {},
   "source": [
    "Now, let's talk about __association rule mining__."
   ]
  },
  {
   "cell_type": "markdown",
   "metadata": {},
   "source": [
    "In association rule mining, we try to discover rules based on item sets.\n",
    "\n",
    "Our input data is a list of _transactions_. Each transaction contains a set of items (called an _itemset_).\n",
    "For example, this table represents the set of items bought by a customer in a single transaction:\n",
    "\n",
    "| TID | Items |\n",
    "| --- | ----- |\n",
    "| 1 | Bread, Milk |\n",
    "| 2 | Bread, Diaper, Beer, Eggs |\n",
    "| 3 | Milk, Diaper, Beer, Coke |\n",
    "| 4 | Bread, Milk, Diaper, Beer |\n",
    "| 4 | Bread, Milk, Diaper, Coke |"
   ]
  },
  {
   "cell_type": "code",
   "execution_count": 7,
   "metadata": {
    "collapsed": true
   },
   "outputs": [],
   "source": [
    "T = [\n",
    " {'Bread', 'Milk'},\n",
    " {'Beer', 'Bread', 'Diaper', 'Eggs'},\n",
    " {'Beer', 'Coke', 'Diaper', 'Milk'},\n",
    " {'Beer', 'Bread', 'Diaper', 'Milk'},\n",
    " {'Bread', 'Coke', 'Diaper', 'Milk'},\n",
    "]"
   ]
  },
  {
   "cell_type": "markdown",
   "metadata": {},
   "source": [
    "We use them to find association rules, such as:\n",
    "\n",
    "$$ \\{\\text{Milk}, \\text{Bread}\\} \\Rightarrow \\{\\text{Eggs}, \\text{Coke}\\} $$\n",
    "\n",
    "Which means that if a customer buys Milk and Bread, it is likely that they will buy Eggs and Coke as well."
   ]
  },
  {
   "cell_type": "markdown",
   "metadata": {},
   "source": [
    "Itemsets\n",
    "========\n",
    "\n",
    "An _itemset_ is simply a set of items, such as $\\{ \\text{Milk}, \\text{Bread}, \\text{Eggs} \\}$.\n",
    "\n",
    "The frequency of occurrence of an _itemset_ is called support count.\n",
    "\n",
    "$$ \\sigma(X) = \\|\\{ x \\in T \\:|\\: X \\subseteq x \\}\\| $$"
   ]
  },
  {
   "cell_type": "code",
   "execution_count": 8,
   "metadata": {
    "collapsed": true
   },
   "outputs": [],
   "source": [
    "def support_count(X, T):\n",
    "  return (sum(1 for x in T if X <= x))\n",
    "# X <= x test whether every element in X is in x, if true X is a subset of x\n",
    "# s >= t test whether every element in t is in s, if true t is a subset of s\n",
    "# s | t new set with elements from both s and t\n",
    "# s & t new set with elements common to s and t\n",
    "# s - t new set with elements in s but not in t\n",
    "# s ^ t new set with elements in either s or t but not both"
   ]
  },
  {
   "cell_type": "code",
   "execution_count": 9,
   "metadata": {},
   "outputs": [
    {
     "data": {
      "text/plain": [
       "2"
      ]
     },
     "execution_count": 9,
     "metadata": {},
     "output_type": "execute_result"
    }
   ],
   "source": [
    "support_count({'Milk', 'Bread', 'Diaper'}, T)"
   ]
  },
  {
   "cell_type": "markdown",
   "metadata": {},
   "source": [
    "Support is the _proportion_ of transactions that contain an itemset.\n",
    "\n",
    "$$ s(X) = \\frac{\\sigma(X)}{\\|\\text{T}\\|} $$"
   ]
  },
  {
   "cell_type": "code",
   "execution_count": 15,
   "metadata": {
    "collapsed": true
   },
   "outputs": [],
   "source": [
    "def support(X, T):\n",
    "  return float(support_count(X, T)) / len(T)"
   ]
  },
  {
   "cell_type": "code",
   "execution_count": 16,
   "metadata": {},
   "outputs": [
    {
     "data": {
      "text/plain": [
       "0.4"
      ]
     },
     "execution_count": 16,
     "metadata": {},
     "output_type": "execute_result"
    }
   ],
   "source": [
    "support({'Milk', 'Bread', 'Diaper'}, T)"
   ]
  },
  {
   "cell_type": "markdown",
   "metadata": {},
   "source": [
    "If the _support_ is higher than a given ratio, it is called a _frequent itemset_."
   ]
  },
  {
   "cell_type": "markdown",
   "metadata": {},
   "source": [
    "Rules\n",
    "=====\n",
    "\n",
    "A rule is in form of $X \\Rightarrow Y$ where $X$ and $Y$ are itemsets. For example:\n",
    "\n",
    "$$ \\{ \\text{Milk}, \\text{Diaper} \\} \\Rightarrow \\{ \\text{Beer} \\} $$"
   ]
  },
  {
   "cell_type": "code",
   "execution_count": 17,
   "metadata": {
    "collapsed": true
   },
   "outputs": [],
   "source": [
    "rule = ({'Milk', 'Diaper'}, {'Beer'})"
   ]
  },
  {
   "cell_type": "markdown",
   "metadata": {},
   "source": [
    "The _support_ of the rule is the fraction of transactions that contain both $X$ and $Y$.\n",
    "\n",
    "$$ s(X \\Rightarrow Y) = s(X \\cup Y) $$"
   ]
  },
  {
   "cell_type": "code",
   "execution_count": 18,
   "metadata": {
    "collapsed": true
   },
   "outputs": [],
   "source": [
    "def rule_support(rule, T):\n",
    "    (x, y)=rule\n",
    "    return support(x | y, T)"
   ]
  },
  {
   "cell_type": "code",
   "execution_count": 19,
   "metadata": {},
   "outputs": [
    {
     "data": {
      "text/plain": [
       "0.4"
      ]
     },
     "execution_count": 19,
     "metadata": {},
     "output_type": "execute_result"
    }
   ],
   "source": [
    "rule_support(rule, T)"
   ]
  },
  {
   "cell_type": "markdown",
   "metadata": {},
   "source": [
    "The _confidence_ of the rule tells you how many transactions that contains $X$ also contains $Y$ (in form of proportion).\n",
    "\n",
    "$$ c(X \\Rightarrow Y) = \\frac{\\sigma(X \\cup Y)}{\\sigma(X)} \\left(= \\frac{s(X \\Rightarrow Y)}{s(X)}\\right) $$"
   ]
  },
  {
   "cell_type": "code",
   "execution_count": 22,
   "metadata": {
    "collapsed": true
   },
   "outputs": [],
   "source": [
    "def rule_confidence(rule, T):\n",
    "    (x, y)=rule\n",
    "    return (float(support_count(x | y, T))\n",
    "        / support_count(x, T))"
   ]
  },
  {
   "cell_type": "code",
   "execution_count": 23,
   "metadata": {},
   "outputs": [
    {
     "data": {
      "text/plain": [
       "0.6666666666666666"
      ]
     },
     "execution_count": 23,
     "metadata": {},
     "output_type": "execute_result"
    }
   ],
   "source": [
    "rule_confidence(rule, T)"
   ]
  },
  {
   "cell_type": "markdown",
   "metadata": {},
   "source": [
    "Association Rule Mining\n",
    "=======================\n",
    "\n",
    "In association rule mining, we want to find all rules that has enough _support_ and _confidence_. In other words, we want to find $\\{ X \\Rightarrow Y \\:|\\: s(X \\Rightarrow Y) > s_{min}, c(X \\Rightarrow Y) > c_{min} \\}$.\n",
    "\n",
    "We are using 2-step approach:\n",
    "\n",
    "- First, finding frequent itemsets with enough support.\n",
    "    - For example, $\\{A, B, C\\}$\n",
    "- Then, generate rules from these itemsets.\n",
    "    - We can generate rules by finding binary partitions of a given itemset.\n",
    "    - For example, from $\\{A, B, C\\}$, we can generate 6 rules:\n",
    "    - Note that support of these rules are all the same.\n",
    "    - We then select only the rules with enough confidence.\n",
    "        - $\\{A\\} \\Rightarrow \\{C,B\\}$\n",
    "        - $\\{C\\} \\Rightarrow \\{A,B\\}$\n",
    "        - $\\{B\\} \\Rightarrow \\{A,C\\}$\n",
    "        - $\\{A,C\\} \\Rightarrow \\{B\\}$\n",
    "        - $\\{A,B\\} \\Rightarrow \\{C\\}$\n",
    "        - $\\{C,B\\} \\Rightarrow \\{A\\}$\n",
    "\n",
    "Let's forget about finding frequent itemsets for now; let's assume we were already given frequent itemsets."
   ]
  },
  {
   "cell_type": "code",
   "execution_count": 24,
   "metadata": {
    "collapsed": true
   },
   "outputs": [],
   "source": [
    "T = [\n",
    " {'A', 'B', 'E'},\n",
    " {'B', 'D'},\n",
    " {'B', 'C'},\n",
    " {'A', 'B', 'D'},\n",
    " {'A', 'C'},\n",
    " {'B', 'C'},\n",
    " {'A', 'C'},\n",
    " {'A', 'B', 'C', 'E'},\n",
    " {'A', 'B', 'C'},\n",
    "]\n",
    "\n",
    "cmin = 0.5"
   ]
  },
  {
   "cell_type": "markdown",
   "metadata": {},
   "source": [
    "Given a Frequent Itemset\n",
    "------------------------\n",
    "\n",
    "We can use a naive algorithm:"
   ]
  },
  {
   "cell_type": "code",
   "execution_count": 25,
   "metadata": {
    "collapsed": true
   },
   "outputs": [],
   "source": [
    "# frequent itemset `l`\n",
    "def find_rules(l, T):\n",
    "  rules = []\n",
    "  for n in range(1, len(l)):\n",
    "    for c in subsets(l, n):\n",
    "      rule = (set(c), l - set(c))\n",
    "      if rule_confidence(rule, T) >= cmin:\n",
    "        rules.append(rule)\n",
    "  return rules"
   ]
  },
  {
   "cell_type": "markdown",
   "metadata": {},
   "source": [
    "It just tries all \"binary partitions\" of the frequent itemset `l`, and only emits rules with enough confidence."
   ]
  },
  {
   "cell_type": "code",
   "execution_count": 26,
   "metadata": {},
   "outputs": [
    {
     "data": {
      "text/plain": [
       "[(({'E'}, {'A', 'B'}), 1.0),\n",
       " (({'A', 'B'}, {'E'}), 0.5),\n",
       " (({'A', 'E'}, {'B'}), 1.0),\n",
       " (({'B', 'E'}, {'A'}), 1.0)]"
      ]
     },
     "execution_count": 26,
     "metadata": {},
     "output_type": "execute_result"
    }
   ],
   "source": [
    "[(rule, rule_confidence(rule, T))\n",
    "  for rule in find_rules({'A', 'B', 'E'}, T)]"
   ]
  },
  {
   "cell_type": "markdown",
   "metadata": {},
   "source": [
    "Without a Frequent Itemset\n",
    "--------------------------\n",
    "\n",
    "Now, recall about having to find the frequent itemsets. What should we do?\n",
    "\n",
    "For a large dataset, this is impractical. To find all the candidates, we must try all subsets of all items!\n",
    "If we have $d$ items, the number of subsets become $2^d$.\n",
    "See how fast it grows!\n",
    "What can we do to help?"
   ]
  },
  {
   "cell_type": "markdown",
   "metadata": {},
   "source": [
    "Apriori Principle\n",
    "-----------------\n",
    "\n",
    "You know, given that $A \\subseteq B$, then $C \\subseteq B$ as well if $C \\subseteq B$.\n",
    "It is also obvious that if $A \\subseteq B$, $s(A) \\geq s(B)$, since every item in $A$ also appear in $B$.\n",
    "\n",
    "Apriori priciple says:\n",
    "_\"If an itemset is frequent, then all of its subsets must also be frequent.\"_\n",
    "\n",
    "From that, we know that if an itemset is _infrequent_, all its supersets are also infrequent.\n",
    "\n",
    "Again, let's use the example from the slides."
   ]
  },
  {
   "cell_type": "code",
   "execution_count": 27,
   "metadata": {
    "collapsed": true
   },
   "outputs": [],
   "source": [
    "T = [\n",
    "  {'A', 'C', 'D'},\n",
    "  {'B', 'C', 'E'},\n",
    "  {'A', 'B', 'C', 'E'},\n",
    "  {'B', 'E'},\n",
    "  {'A', 'B', 'C', 'E'}\n",
    "]\n",
    "\n",
    "smin = 0.4"
   ]
  },
  {
   "cell_type": "markdown",
   "metadata": {},
   "source": [
    "\n",
    "### Starting Small\n",
    "\n",
    "So here's our approach.\n",
    "\n",
    "- First, we find all frequent itemsets of size 1 (called _frequent 1-itemsets_).\n",
    "- Next, we \"prune\" itemsets whose support is too low.\n",
    "- Then, we generate frequent _2_-itemsets from the remaining 1-itemsets.\n",
    "- Again, we \"prune\" itemsets whose support is too low.\n",
    "- Increase the size and repeat.\n"
   ]
  },
  {
   "cell_type": "markdown",
   "metadata": {},
   "source": [
    "### Generating Frequent 1-itemsets\n",
    "\n",
    "First, let's generate frequent 1-itemsets.\n",
    "Before that, I will create a function to union multiple sets."
   ]
  },
  {
   "cell_type": "code",
   "execution_count": 28,
   "metadata": {
    "collapsed": true
   },
   "outputs": [],
   "source": [
    "def union_all(sets):\n",
    "  \"\"\"Finds the union of given sets.\"\"\"\n",
    "  result = set()\n",
    "  for c in sets:\n",
    "    result = result | c\n",
    "  return result"
   ]
  },
  {
   "cell_type": "code",
   "execution_count": 29,
   "metadata": {},
   "outputs": [
    {
     "data": {
      "text/plain": [
       "{1, 2, 3}"
      ]
     },
     "execution_count": 29,
     "metadata": {},
     "output_type": "execute_result"
    }
   ],
   "source": [
    "union_all([{1, 2}, {2, 3}])"
   ]
  },
  {
   "cell_type": "code",
   "execution_count": 30,
   "metadata": {},
   "outputs": [
    {
     "data": {
      "text/plain": [
       "set()"
      ]
     },
     "execution_count": 30,
     "metadata": {},
     "output_type": "execute_result"
    }
   ],
   "source": [
    "union_all([])"
   ]
  },
  {
   "cell_type": "markdown",
   "metadata": {},
   "source": [
    "Now, some code to find frequent 1-itemsets:"
   ]
  },
  {
   "cell_type": "code",
   "execution_count": 31,
   "metadata": {
    "collapsed": true
   },
   "outputs": [],
   "source": [
    "def frequent_1(T):\n",
    "  items = union_all(T)\n",
    "  print(\"Items:\",items)\n",
    "  return [{item}\n",
    "    for item in items\n",
    "      if support({item}, T) >= smin]"
   ]
  },
  {
   "cell_type": "code",
   "execution_count": 32,
   "metadata": {},
   "outputs": [
    {
     "name": "stdout",
     "output_type": "stream",
     "text": [
      "('Items:', set(['A', 'C', 'B', 'E', 'D']))\n"
     ]
    },
    {
     "data": {
      "text/plain": [
       "[{'A'}, {'C'}, {'B'}, {'E'}]"
      ]
     },
     "execution_count": 32,
     "metadata": {},
     "output_type": "execute_result"
    }
   ],
   "source": [
    "L1 = frequent_1(T)\n",
    "L1"
   ]
  },
  {
   "cell_type": "markdown",
   "metadata": {},
   "source": [
    "As you see, \"D\" is eliminated from the candidates.\n",
    "That means any itemset with \"D\" in it will not be frequent enough."
   ]
  },
  {
   "cell_type": "markdown",
   "metadata": {},
   "source": [
    "### Expanding It\n",
    "\n",
    "Next, we generate frequent 2-itemsets from 1-itemsets.\n",
    "The easiest way to do it is to put these items together and select 2 items. First, we put them together:"
   ]
  },
  {
   "cell_type": "code",
   "execution_count": 33,
   "metadata": {},
   "outputs": [
    {
     "data": {
      "text/plain": [
       "{'A', 'B', 'C', 'E'}"
      ]
     },
     "execution_count": 33,
     "metadata": {},
     "output_type": "execute_result"
    }
   ],
   "source": [
    "union_all(L1)"
   ]
  },
  {
   "cell_type": "code",
   "execution_count": 34,
   "metadata": {},
   "outputs": [
    {
     "name": "stdout",
     "output_type": "stream",
     "text": [
      "set(['A', 'C'])\n",
      "set(['A', 'B'])\n",
      "set(['A', 'E'])\n",
      "set(['C', 'B'])\n",
      "set(['C', 'E'])\n",
      "set(['B', 'E'])\n"
     ]
    }
   ],
   "source": [
    "C2 = subsets(_, 2)\n",
    "print_all(C2)"
   ]
  },
  {
   "cell_type": "markdown",
   "metadata": {},
   "source": [
    "These are the candidate itemsets. But maybe... not all of them are frequent enough."
   ]
  },
  {
   "cell_type": "markdown",
   "metadata": {},
   "source": [
    "Now, for each candidate $c$ in `C2`,\n",
    "we must make sure at all of $c$'s 1-subset is in `L1`.\n",
    "Why? If one of $c$'s subset (let's call it $s$) is not in `L1`,\n",
    "it means that that $s$ has already been pruned, because $s$ is not frequent enough.\n",
    "Since $c$ is a superset of $s$, $c$ will also not be frequent enough."
   ]
  },
  {
   "cell_type": "code",
   "execution_count": 35,
   "metadata": {
    "collapsed": true
   },
   "outputs": [],
   "source": [
    "def good_candidate(c, P):\n",
    "  for s in subsets(c, len(c) - 1):\n",
    "    if s not in P: \n",
    "        return false\n",
    "  return True"
   ]
  },
  {
   "cell_type": "code",
   "execution_count": 36,
   "metadata": {},
   "outputs": [
    {
     "name": "stdout",
     "output_type": "stream",
     "text": [
      "set(['A', 'C'])\n",
      "set(['A', 'B'])\n",
      "set(['A', 'E'])\n",
      "set(['C', 'B'])\n",
      "set(['C', 'E'])\n",
      "set(['B', 'E'])\n"
     ]
    }
   ],
   "source": [
    "F2 = [c for c in C2 if good_candidate(c, L1)]\n",
    "print_all(F2)"
   ]
  },
  {
   "cell_type": "markdown",
   "metadata": {},
   "source": [
    "Well, it seems that every candidate is a good one. Anyway, now we have the finalists!\n",
    "For the final round, you might have guessed it:\n",
    "We simply check the support to see if each item set is frequent enough!"
   ]
  },
  {
   "cell_type": "code",
   "execution_count": 37,
   "metadata": {},
   "outputs": [
    {
     "name": "stdout",
     "output_type": "stream",
     "text": [
      "[set(['A', 'C']), set(['A', 'B']), set(['A', 'E']), set(['C', 'B']), set(['C', 'E']), set(['B', 'E'])]\n"
     ]
    }
   ],
   "source": [
    "L2 = [f for f in F2 if support(f, T) >= smin]\n",
    "print(L2)"
   ]
  },
  {
   "cell_type": "markdown",
   "metadata": {},
   "source": [
    "Again, all of them are frequent enough! So, now we have the 2-itemsets."
   ]
  },
  {
   "cell_type": "markdown",
   "metadata": {},
   "source": [
    "### Moving On"
   ]
  },
  {
   "cell_type": "markdown",
   "metadata": {},
   "source": [
    "Now, let's generate `L3`."
   ]
  },
  {
   "cell_type": "code",
   "execution_count": 38,
   "metadata": {
    "collapsed": true
   },
   "outputs": [],
   "source": [
    "def generate_candidates(P, k):\n",
    "  return subsets(union_all(P), k)"
   ]
  },
  {
   "cell_type": "code",
   "execution_count": 39,
   "metadata": {},
   "outputs": [
    {
     "name": "stdout",
     "output_type": "stream",
     "text": [
      "set(['A', 'C', 'B'])\n",
      "set(['A', 'C', 'E'])\n",
      "set(['A', 'B', 'E'])\n",
      "set(['C', 'B', 'E'])\n"
     ]
    }
   ],
   "source": [
    "C3 = generate_candidates(L2, 3)\n",
    "print_all(C3)"
   ]
  },
  {
   "cell_type": "code",
   "execution_count": 40,
   "metadata": {},
   "outputs": [
    {
     "name": "stdout",
     "output_type": "stream",
     "text": [
      "set(['A', 'C', 'B'])\n",
      "set(['A', 'C', 'E'])\n",
      "set(['A', 'B', 'E'])\n",
      "set(['C', 'B', 'E'])\n"
     ]
    }
   ],
   "source": [
    "F3 = [c for c in C3\n",
    "         if good_candidate(c, L2)]\n",
    "print_all(F3)"
   ]
  },
  {
   "cell_type": "code",
   "execution_count": 41,
   "metadata": {},
   "outputs": [
    {
     "name": "stdout",
     "output_type": "stream",
     "text": [
      "set(['A', 'C', 'B'])\n",
      "set(['A', 'C', 'E'])\n",
      "set(['A', 'B', 'E'])\n",
      "set(['C', 'B', 'E'])\n"
     ]
    }
   ],
   "source": [
    "L3 = [f for f in F3\n",
    "         if support(f, T) >= smin]\n",
    "print_all(L3)"
   ]
  },
  {
   "cell_type": "markdown",
   "metadata": {},
   "source": [
    "### Generalizing It\n",
    "\n",
    "We can turn the above steps into this function:"
   ]
  },
  {
   "cell_type": "code",
   "execution_count": 42,
   "metadata": {
    "collapsed": true
   },
   "outputs": [],
   "source": [
    "def frequent_k(P, k, T):\n",
    "  C = generate_candidates(P, k)\n",
    "  F = [c for c in C if good_candidate(c, P)]\n",
    "  return [f for f in F if support(f, T) >= smin]"
   ]
  },
  {
   "cell_type": "markdown",
   "metadata": {},
   "source": [
    "We then use that function to generate `L4`."
   ]
  },
  {
   "cell_type": "code",
   "execution_count": 43,
   "metadata": {},
   "outputs": [
    {
     "data": {
      "text/plain": [
       "[{'A', 'B', 'C', 'E'}]"
      ]
     },
     "execution_count": 43,
     "metadata": {},
     "output_type": "execute_result"
    }
   ],
   "source": [
    "L4 = frequent_k(L3, 4, T)\n",
    "L4"
   ]
  },
  {
   "cell_type": "markdown",
   "metadata": {},
   "source": [
    "Finally, generating `L5` will return no itemsets, which concludes the Apriori algorithm:"
   ]
  },
  {
   "cell_type": "code",
   "execution_count": 44,
   "metadata": {},
   "outputs": [
    {
     "data": {
      "text/plain": [
       "[]"
      ]
     },
     "execution_count": 44,
     "metadata": {},
     "output_type": "execute_result"
    }
   ],
   "source": [
    "L5 = frequent_k(L4, 5, T)\n",
    "L5"
   ]
  },
  {
   "cell_type": "markdown",
   "metadata": {},
   "source": [
    "Putting It Together\n",
    "-------------------\n",
    "\n",
    "We take all the previous answers to find the frequent itemsets!"
   ]
  },
  {
   "cell_type": "code",
   "execution_count": 45,
   "metadata": {},
   "outputs": [
    {
     "data": {
      "text/plain": [
       "[{'A'},\n",
       " {'C'},\n",
       " {'B'},\n",
       " {'E'},\n",
       " {'A', 'C'},\n",
       " {'A', 'B'},\n",
       " {'A', 'E'},\n",
       " {'B', 'C'},\n",
       " {'C', 'E'},\n",
       " {'B', 'E'},\n",
       " {'A', 'B', 'C'},\n",
       " {'A', 'C', 'E'},\n",
       " {'A', 'B', 'E'},\n",
       " {'B', 'C', 'E'},\n",
       " {'A', 'B', 'C', 'E'}]"
      ]
     },
     "execution_count": 45,
     "metadata": {},
     "output_type": "execute_result"
    }
   ],
   "source": [
    "L1 + L2 + L3 + L4 + L5"
   ]
  },
  {
   "cell_type": "markdown",
   "metadata": {},
   "source": [
    "Summing It Up\n",
    "-------------\n",
    "\n",
    "Finally, here's the apriori algorithm!"
   ]
  },
  {
   "cell_type": "code",
   "execution_count": 46,
   "metadata": {
    "collapsed": true
   },
   "outputs": [],
   "source": [
    "def apriori(T):\n",
    "  result = []\n",
    "  L = frequent_1(T)\n",
    "  k = 1\n",
    "  while len(L) > 0:\n",
    "    result += L\n",
    "    k += 1\n",
    "    L = frequent_k(L, k, T)\n",
    "  return result"
   ]
  },
  {
   "cell_type": "code",
   "execution_count": 47,
   "metadata": {},
   "outputs": [
    {
     "name": "stdout",
     "output_type": "stream",
     "text": [
      "('Items:', set(['A', 'C', 'B', 'E', 'D']))\n"
     ]
    },
    {
     "data": {
      "text/plain": [
       "[{'A'},\n",
       " {'C'},\n",
       " {'B'},\n",
       " {'E'},\n",
       " {'A', 'C'},\n",
       " {'A', 'B'},\n",
       " {'A', 'E'},\n",
       " {'B', 'C'},\n",
       " {'C', 'E'},\n",
       " {'B', 'E'},\n",
       " {'A', 'B', 'C'},\n",
       " {'A', 'C', 'E'},\n",
       " {'A', 'B', 'E'},\n",
       " {'B', 'C', 'E'},\n",
       " {'A', 'B', 'C', 'E'}]"
      ]
     },
     "execution_count": 47,
     "metadata": {},
     "output_type": "execute_result"
    }
   ],
   "source": [
    "L = apriori(T)\n",
    "L"
   ]
  },
  {
   "cell_type": "markdown",
   "metadata": {},
   "source": [
    "For each frequent itemsets, we generate rules from it."
   ]
  },
  {
   "cell_type": "code",
   "execution_count": 48,
   "metadata": {},
   "outputs": [
    {
     "data": {
      "text/plain": [
       "[({'A'}, {'C'}),\n",
       " ({'C'}, {'A'}),\n",
       " ({'C'}, {'B'}),\n",
       " ({'B'}, {'C'}),\n",
       " ({'C'}, {'E'}),\n",
       " ({'E'}, {'C'}),\n",
       " ({'B'}, {'E'}),\n",
       " ({'E'}, {'B'}),\n",
       " ({'A', 'B'}, {'C'}),\n",
       " ({'A', 'E'}, {'C'}),\n",
       " ({'A', 'B'}, {'E'}),\n",
       " ({'A', 'E'}, {'B'}),\n",
       " ({'C'}, {'B', 'E'}),\n",
       " ({'B'}, {'C', 'E'}),\n",
       " ({'E'}, {'B', 'C'}),\n",
       " ({'B', 'C'}, {'E'}),\n",
       " ({'C', 'E'}, {'B'}),\n",
       " ({'B', 'E'}, {'C'}),\n",
       " ({'A', 'B'}, {'C', 'E'}),\n",
       " ({'A', 'E'}, {'B', 'C'}),\n",
       " ({'A', 'B', 'C'}, {'E'}),\n",
       " ({'A', 'C', 'E'}, {'B'}),\n",
       " ({'A', 'B', 'E'}, {'C'})]"
      ]
     },
     "execution_count": 48,
     "metadata": {},
     "output_type": "execute_result"
    }
   ],
   "source": [
    "cmin = 0.75\n",
    "\n",
    "[rule\n",
    "  for itemset in L\n",
    "    for rule in find_rules(itemset, T)]"
   ]
  },
  {
   "cell_type": "markdown",
   "metadata": {},
   "source": [
    "The Lift\n",
    "--------\n",
    "\n",
    "How can you be sure that there really is a correlation between the itemset $X$ and $Y$?\n",
    "\n",
    "- 90% of customers buy coffee.\n",
    "- 25% of customers buy tea.\n",
    "- 20% of customers buy both.\n",
    "\n",
    "After filling Venn diagram, here's our transactions:"
   ]
  },
  {
   "cell_type": "code",
   "execution_count": 49,
   "metadata": {
    "collapsed": true
   },
   "outputs": [],
   "source": [
    "T = (\n",
    "  20 * [{'coffee', 'tea'}] +\n",
    "  70 * [{'coffee'}] +\n",
    "   5 * [{'tea'}] +\n",
    "   5 * [set()]\n",
    ")"
   ]
  },
  {
   "cell_type": "markdown",
   "metadata": {},
   "source": [
    "Given $\\{\\text{coffee}, \\text{tea}\\}$ is a frequent itemset,\n",
    "let's mine some rules!"
   ]
  },
  {
   "cell_type": "code",
   "execution_count": 50,
   "metadata": {},
   "outputs": [
    {
     "data": {
      "text/plain": [
       "[({'tea'}, {'coffee'})]"
      ]
     },
     "execution_count": 50,
     "metadata": {},
     "output_type": "execute_result"
    }
   ],
   "source": [
    "rules = find_rules({'coffee', 'tea'}, T)\n",
    "rules"
   ]
  },
  {
   "cell_type": "markdown",
   "metadata": {},
   "source": [
    "Here, we mined the rule $\\{\\text{tea}\\} \\Rightarrow \\{\\text{coffee}\\}$.\n",
    "How confident we are?"
   ]
  },
  {
   "cell_type": "code",
   "execution_count": 51,
   "metadata": {},
   "outputs": [
    {
     "data": {
      "text/plain": [
       "0.8"
      ]
     },
     "execution_count": 51,
     "metadata": {},
     "output_type": "execute_result"
    }
   ],
   "source": [
    "rule = ({'tea'}, {'coffee'})\n",
    "rule_confidence(rule, T)"
   ]
  },
  {
   "cell_type": "markdown",
   "metadata": {},
   "source": [
    "We found that __80% of customers that buy tea also buys coffee__.\n",
    "We're highly confident, at 80 percent!\n",
    "But is 80% good?\n",
    "\n",
    "Does it really mean that the customer buys coffee _because_ they buy tea?\n",
    "To find out, let's remove the condition.\n",
    "Let's see how many people buy coffee \"no matter what:\""
   ]
  },
  {
   "cell_type": "code",
   "execution_count": 52,
   "metadata": {},
   "outputs": [
    {
     "data": {
      "text/plain": [
       "0.9"
      ]
     },
     "execution_count": 52,
     "metadata": {},
     "output_type": "execute_result"
    }
   ],
   "source": [
    "rule = (set(), {'coffee'})\n",
    "rule_confidence(rule, T)"
   ]
  },
  {
   "cell_type": "markdown",
   "metadata": {},
   "source": [
    "This is called the unconditional, _expected confidence_.\n",
    "As you see, people who buy tea are actually less likely to buy coffee.\n",
    "This is a _negative correlation_.\n",
    "\n",
    "To quantify this correlation, we use a measure called \"lift:\"\n",
    "\n",
    "$$ L(X \\Rightarrow Y) = \\frac{c(X \\Rightarrow Y)}{c(\\varnothing \\Rightarrow Y)}$$"
   ]
  },
  {
   "cell_type": "code",
   "execution_count": 53,
   "metadata": {
    "collapsed": true
   },
   "outputs": [],
   "source": [
    "def rule_lift(rule, T):\n",
    "  (x, y)=rule\n",
    "  return (rule_confidence((x, y), T)\n",
    "        / rule_confidence((set(), y), T))"
   ]
  },
  {
   "cell_type": "code",
   "execution_count": 54,
   "metadata": {},
   "outputs": [
    {
     "data": {
      "text/plain": [
       "0.888888888888889"
      ]
     },
     "execution_count": 54,
     "metadata": {},
     "output_type": "execute_result"
    }
   ],
   "source": [
    "rule = ({'tea'}, {'coffee'})\n",
    "rule_lift(rule, T)"
   ]
  },
  {
   "cell_type": "markdown",
   "metadata": {},
   "source": [
    "The \"lift\" measure tells us the correlation of the rule.\n",
    "\n",
    "- $L > 1 \\Rightarrow$ positive correlation\n",
    "- $L = 1 \\Rightarrow$ independence\n",
    "- $L < 1 \\Rightarrow$ negative correlation"
   ]
  },
  {
   "cell_type": "markdown",
   "metadata": {},
   "source": [
    "And this concludes this notebook regarding association rules and apriori algorithm."
   ]
  },
  {
   "cell_type": "markdown",
   "metadata": {},
   "source": [
    "# Problem on computing association rules with 100% confidence"
   ]
  },
  {
   "cell_type": "markdown",
   "metadata": {},
   "source": [
    "Imagine there are 100 baskets, numbered 1,2,...,100, and 100 items, similarly numbered. Item i is in basket j if and only if i divides j evenly. For example, basket 24 is the set of items {1,2,3,4,6,8,12,24}.  Which of the following rules has 100% confidence?\n",
    "\n",
    "{1,2}-> 4; {1}-> 2; {1,4,7}-> 14; {1,3,6}-> 12; {4,6}-> 12; {8,12}-> 96; {4,6}-> 24; {1,3,6}-> 12"
   ]
  },
  {
   "cell_type": "code",
   "execution_count": 55,
   "metadata": {
    "collapsed": true
   },
   "outputs": [],
   "source": [
    "baskets = range(1,101)\n",
    "items = range(1,101)\n",
    "\n",
    "# Create transactions\n",
    "transactions = []\n",
    "\n",
    "for i in baskets:\n",
    "    basket = []\n",
    "    for item in items:\n",
    "        if i % item == 0:\n",
    "            basket.append(item)\n",
    "    transactions.append(basket)"
   ]
  },
  {
   "cell_type": "code",
   "execution_count": 56,
   "metadata": {},
   "outputs": [
    {
     "data": {
      "text/plain": [
       "[1, 2, 3, 4, 6, 8, 12, 24]"
      ]
     },
     "execution_count": 56,
     "metadata": {},
     "output_type": "execute_result"
    }
   ],
   "source": [
    "transactions[23]"
   ]
  },
  {
   "cell_type": "code",
   "execution_count": 57,
   "metadata": {
    "collapsed": true
   },
   "outputs": [],
   "source": [
    "#Computes support for the query set\n",
    "def check(transactions,query):\n",
    "    count=0\n",
    "    for t in transactions:\n",
    "        query_in = True\n",
    "        for q in query:\n",
    "            if q not in t:\n",
    "                query_in = False\n",
    "        if query_in:\n",
    "            count+=1\n",
    "    return count"
   ]
  },
  {
   "cell_type": "code",
   "execution_count": 58,
   "metadata": {},
   "outputs": [
    {
     "data": {
      "text/plain": [
       "50"
      ]
     },
     "execution_count": 58,
     "metadata": {},
     "output_type": "execute_result"
    }
   ],
   "source": [
    "check(transactions,{1,2})"
   ]
  },
  {
   "cell_type": "code",
   "execution_count": 59,
   "metadata": {
    "collapsed": true
   },
   "outputs": [],
   "source": [
    "def confidence(num,denom):\n",
    "    count_denom = check(transactions,denom)\n",
    "    count_num = check(transactions,num)\n",
    "    confidence = count_num /(1.0* count_denom ) * 100\n",
    "    return confidence"
   ]
  },
  {
   "cell_type": "code",
   "execution_count": 60,
   "metadata": {},
   "outputs": [
    {
     "name": "stdout",
     "output_type": "stream",
     "text": [
      "('{1,2}-> 4,Condidence', 50.0)\n",
      "('{1}-> 2,Condidence', 50.0)\n",
      "('{1,4,7}-> 14,Condidence', 100.0)\n",
      "('{1,3,6}-> 12,Condidence', 50.0)\n",
      "('{4,6}-> 12,Condidence', 100.0)\n",
      "('{8,12}-> 96,Condidence', 25.0)\n",
      "('{4,6}-> 24,Condidence', 50.0)\n",
      "('{1,3,6}-> 12,Condidence', 50.0)\n"
     ]
    }
   ],
   "source": [
    "print(\"{1,2}-> 4,Condidence\",confidence([1,2,4],[1,2]))   \n",
    "print(\"{1}-> 2,Condidence\",confidence([1,2],[1]))   \n",
    "print(\"{1,4,7}-> 14,Condidence\",confidence([1,4,7,14],[1,4,7]))   \n",
    "print(\"{1,3,6}-> 12,Condidence\",confidence([1,3,6,12],[1,3,6]))   \n",
    "print(\"{4,6}-> 12,Condidence\",confidence([4,6,12],[4,6]))   \n",
    "print(\"{8,12}-> 96,Condidence\",confidence([8,12,96],[8,12]))   \n",
    "print(\"{4,6}-> 24,Condidence\",confidence([4,6,24],[4,6]))   \n",
    "print(\"{1,3,6}-> 12,Condidence\",confidence([1,3,6,12],[1,3,6]))"
   ]
  },
  {
   "cell_type": "markdown",
   "metadata": {},
   "source": [
    "# Orange way of computing association rules and frequent patterns\n",
    "pip install orange3\n",
    "\n",
    "pip install orange3-associate"
   ]
  },
  {
   "cell_type": "code",
   "execution_count": 1,
   "metadata": {
    "collapsed": true
   },
   "outputs": [],
   "source": [
    "T = [[1,    3, 4   ],\n",
    "[   2, 3,    5],\n",
    "[1, 2, 3,    5],\n",
    "[   2,       5]]"
   ]
  },
  {
   "cell_type": "code",
   "execution_count": 2,
   "metadata": {
    "collapsed": true
   },
   "outputs": [],
   "source": [
    "#import orange3\n",
    "#We can enumerate all frequent itemsets with support greater than two transactions:\n",
    "from orangecontrib.associate.fpgrowth import *  \n",
    "itemsets = frequent_itemsets(T, 2)"
   ]
  },
  {
   "cell_type": "code",
   "execution_count": 3,
   "metadata": {},
   "outputs": [
    {
     "data": {
      "text/plain": [
       "[(frozenset({1}), 2),\n",
       " (frozenset({2}), 3),\n",
       " (frozenset({3}), 3),\n",
       " (frozenset({1, 3}), 2),\n",
       " (frozenset({2, 3}), 2),\n",
       " (frozenset({5}), 3),\n",
       " (frozenset({2, 5}), 3),\n",
       " (frozenset({3, 5}), 2),\n",
       " (frozenset({2, 3, 5}), 2)]"
      ]
     },
     "execution_count": 3,
     "metadata": {},
     "output_type": "execute_result"
    }
   ],
   "source": [
    "itemsets\n",
    "list(itemsets)"
   ]
  },
  {
   "cell_type": "markdown",
   "metadata": {},
   "source": [
    "Note, functions in this module produce generators. The results space can explode quite quickly and can easily be too large to fit in your RAM. By using generators, you can filter the results to your liking as you pass them"
   ]
  },
  {
   "cell_type": "code",
   "execution_count": 4,
   "metadata": {},
   "outputs": [
    {
     "data": {
      "text/plain": [
       "[[1, 0, 0, 1, 0, ... | mammal] {aardvark},\n",
       " [1, 0, 0, 1, 0, ... | mammal] {antelope},\n",
       " [0, 0, 1, 0, 0, ... | fish] {bass},\n",
       " [1, 0, 0, 1, 0, ... | mammal] {bear},\n",
       " [1, 0, 0, 1, 0, ... | mammal] {boar},\n",
       " ...\n",
       "]"
      ]
     },
     "execution_count": 4,
     "metadata": {},
     "output_type": "execute_result"
    }
   ],
   "source": [
    "#We can try it with a larger and more real-world database of categorical values:\n",
    "import Orange\n",
    "data = Orange.data.Table('zoo')\n",
    "data"
   ]
  },
  {
   "cell_type": "code",
   "execution_count": 5,
   "metadata": {},
   "outputs": [
    {
     "data": {
      "text/plain": [
       "(101, 16)"
      ]
     },
     "execution_count": 5,
     "metadata": {},
     "output_type": "execute_result"
    }
   ],
   "source": [
    "data.n_rows\n",
    "data.X.shape"
   ]
  },
  {
   "cell_type": "code",
   "execution_count": 6,
   "metadata": {},
   "outputs": [
    {
     "data": {
      "text/plain": [
       "[hair, feathers, eggs, milk, airborne, aquatic, predator, toothed, backbone, breathes, venomous, fins, legs, tail, domestic, catsize | type] {name}"
      ]
     },
     "execution_count": 6,
     "metadata": {},
     "output_type": "execute_result"
    }
   ],
   "source": [
    "data.domain"
   ]
  },
  {
   "cell_type": "code",
   "execution_count": 7,
   "metadata": {},
   "outputs": [
    {
     "name": "stdout",
     "output_type": "stream",
     "text": [
      "['aardvark']['antelope']['bass']['bear']['boar']['buffalo']['calf']['carp']['catfish']['cavy']['cheetah']['chicken']['chub']['clam']['crab']['crayfish']['crow']['deer']['dogfish']['dolphin']['dove']['duck']['elephant']['flamingo']['flea']['frog']['frog']['fruitbat']['giraffe']['girl']['gnat']['goat']['gorilla']['gull']['haddock']['hamster']['hare']['hawk']['herring']['honeybee']['housefly']['kiwi']['ladybird']['lark']['leopard']['lion']['lobster']['lynx']['mink']['mole']['mongoose']['moth']['newt']['octopus']['opossum']['oryx']['ostrich']['parakeet']['penguin']['pheasant']['pike']['piranha']['pitviper']['platypus']['polecat']['pony']['porpoise']['puma']['pussycat']['raccoon']['reindeer']['rhea']['scorpion']['seahorse']['seal']['sealion']['seasnake']['seawasp']['skimmer']['skua']['slowworm']['slug']['sole']['sparrow']['squirrel']['starfish']['stingray']['swan']['termite']['toad']['tortoise']['tuatara']['tuna']['vampire']['vole']['vulture']['wallaby']['wasp']['wolf']['worm']['wren']"
     ]
    },
    {
     "data": {
      "text/plain": [
       "(101, 1)"
      ]
     },
     "execution_count": 7,
     "metadata": {},
     "output_type": "execute_result"
    }
   ],
   "source": [
    "for i in data.metas:\n",
    "    print(i, sep=\",\",end=\"\")\n",
    "data.metas.shape"
   ]
  },
  {
   "cell_type": "code",
   "execution_count": 8,
   "metadata": {},
   "outputs": [
    {
     "data": {
      "text/plain": [
       "array([ 5.,  5.,  2.,  5.,  5.,  5.,  5.,  2.,  2.,  5.,  5.,  1.,  2.,\n",
       "        4.,  4.,  4.,  1.,  5.,  2.,  5.,  1.,  1.,  5.,  1.,  3.,  0.,\n",
       "        0.,  5.,  5.,  5.,  3.,  5.,  5.,  1.,  2.,  5.,  5.,  1.,  2.,\n",
       "        3.,  3.,  1.,  3.,  1.,  5.,  5.,  4.,  5.,  5.,  5.,  5.,  3.,\n",
       "        0.,  4.,  5.,  5.,  1.,  1.,  1.,  1.,  2.,  2.,  6.,  5.,  5.,\n",
       "        5.,  5.,  5.,  5.,  5.,  5.,  1.,  4.,  2.,  5.,  5.,  6.,  4.,\n",
       "        1.,  1.,  6.,  4.,  2.,  1.,  5.,  4.,  2.,  1.,  3.,  0.,  6.,\n",
       "        6.,  2.,  5.,  5.,  1.,  5.,  3.,  5.,  4.,  1.])"
      ]
     },
     "execution_count": 8,
     "metadata": {},
     "output_type": "execute_result"
    }
   ],
   "source": [
    "data.domain.class_var.values\n",
    "data.Y"
   ]
  },
  {
   "cell_type": "code",
   "execution_count": 9,
   "metadata": {
    "collapsed": true
   },
   "outputs": [],
   "source": [
    "#We can’t use table data directly; we first have to one-hot transform it:\n",
    "X, mapping = OneHot.encode(data, include_class=True)"
   ]
  },
  {
   "cell_type": "code",
   "execution_count": 10,
   "metadata": {},
   "outputs": [
    {
     "data": {
      "text/plain": [
       "(101, 43)"
      ]
     },
     "execution_count": 10,
     "metadata": {},
     "output_type": "execute_result"
    }
   ],
   "source": [
    "X.shape"
   ]
  },
  {
   "cell_type": "code",
   "execution_count": 11,
   "metadata": {},
   "outputs": [
    {
     "data": {
      "text/plain": [
       "numpy.ndarray"
      ]
     },
     "execution_count": 11,
     "metadata": {},
     "output_type": "execute_result"
    }
   ],
   "source": [
    "type(X)"
   ]
  },
  {
   "cell_type": "code",
   "execution_count": 12,
   "metadata": {},
   "outputs": [
    {
     "data": {
      "text/plain": [
       "array([[False,  True,  True, ..., False,  True, False],\n",
       "       [False,  True,  True, ..., False,  True, False],\n",
       "       [ True, False,  True, ..., False, False, False],\n",
       "       ..., \n",
       "       [False,  True,  True, ..., False,  True, False],\n",
       "       [ True, False,  True, ...,  True, False, False],\n",
       "       [ True, False, False, ..., False, False, False]], dtype=bool)"
      ]
     },
     "execution_count": 12,
     "metadata": {},
     "output_type": "execute_result"
    }
   ],
   "source": [
    "X"
   ]
  },
  {
   "cell_type": "code",
   "execution_count": 13,
   "metadata": {},
   "outputs": [
    {
     "data": {
      "text/plain": [
       "[(0, (0, 0)),\n",
       " (1, (0, 1)),\n",
       " (2, (1, 0)),\n",
       " (3, (1, 1)),\n",
       " (4, (2, 0)),\n",
       " (5, (2, 1)),\n",
       " (6, (3, 0)),\n",
       " (7, (3, 1)),\n",
       " (8, (4, 0)),\n",
       " (9, (4, 1)),\n",
       " (10, (5, 0)),\n",
       " (11, (5, 1)),\n",
       " (12, (6, 0)),\n",
       " (13, (6, 1)),\n",
       " (14, (7, 0)),\n",
       " (15, (7, 1)),\n",
       " (16, (8, 0)),\n",
       " (17, (8, 1)),\n",
       " (18, (9, 0)),\n",
       " (19, (9, 1)),\n",
       " (20, (10, 0)),\n",
       " (21, (10, 1)),\n",
       " (22, (11, 0)),\n",
       " (23, (11, 1)),\n",
       " (24, (12, 0)),\n",
       " (25, (12, 1)),\n",
       " (26, (12, 2)),\n",
       " (27, (12, 3)),\n",
       " (28, (12, 4)),\n",
       " (29, (12, 5)),\n",
       " (30, (13, 0)),\n",
       " (31, (13, 1)),\n",
       " (32, (14, 0)),\n",
       " (33, (14, 1)),\n",
       " (34, (15, 0)),\n",
       " (35, (15, 1)),\n",
       " (36, (16, 0)),\n",
       " (37, (16, 1)),\n",
       " (38, (16, 2)),\n",
       " (39, (16, 3)),\n",
       " (40, (16, 4)),\n",
       " (41, (16, 5)),\n",
       " (42, (16, 6))]"
      ]
     },
     "execution_count": 13,
     "metadata": {},
     "output_type": "execute_result"
    }
   ],
   "source": [
    "sorted(mapping.items())"
   ]
  },
  {
   "cell_type": "code",
   "execution_count": 14,
   "metadata": {},
   "outputs": [
    {
     "data": {
      "text/plain": [
       "520"
      ]
     },
     "execution_count": 14,
     "metadata": {},
     "output_type": "execute_result"
    }
   ],
   "source": [
    "#We want itemsets with >40% support\n",
    "itemsets = dict(frequent_itemsets(X, .4))\n",
    "len(itemsets)"
   ]
  },
  {
   "cell_type": "code",
   "execution_count": 15,
   "metadata": {},
   "outputs": [
    {
     "data": {
      "text/plain": [
       "[36, 37, 38, 39, 40, 41, 42]"
      ]
     },
     "execution_count": 15,
     "metadata": {},
     "output_type": "execute_result"
    }
   ],
   "source": [
    "#The transaction-coded items corresponding to class values are:\n",
    "class_items = {item for item, var, _ in OneHot.decode(mapping, data, mapping) if var is data.domain.class_var}\n",
    "sorted(class_items)"
   ]
  },
  {
   "cell_type": "code",
   "execution_count": 16,
   "metadata": {},
   "outputs": [
    {
     "data": {
      "text/plain": [
       "[(frozenset({2, 7, 17, 19, 20}), frozenset({41}), 41, 1.0),\n",
       " (frozenset({2, 7, 17, 19}), frozenset({41}), 41, 1.0),\n",
       " (frozenset({2, 7, 17, 20}), frozenset({41}), 41, 1.0),\n",
       " (frozenset({2, 7, 19, 20}), frozenset({41}), 41, 1.0),\n",
       " (frozenset({2, 17, 19, 20}), frozenset({41}), 41, 0.8723404255319149),\n",
       " (frozenset({7, 17, 19, 20}), frozenset({41}), 41, 1.0),\n",
       " (frozenset({2, 7, 17}), frozenset({41}), 41, 1.0),\n",
       " (frozenset({2, 7, 19}), frozenset({41}), 41, 1.0),\n",
       " (frozenset({2, 17, 19}), frozenset({41}), 41, 0.8367346938775511),\n",
       " (frozenset({7, 17, 19}), frozenset({41}), 41, 1.0),\n",
       " (frozenset({2, 7, 20}), frozenset({41}), 41, 1.0),\n",
       " (frozenset({7, 17, 20}), frozenset({41}), 41, 1.0),\n",
       " (frozenset({7, 19, 20}), frozenset({41}), 41, 1.0),\n",
       " (frozenset({2, 7}), frozenset({41}), 41, 1.0),\n",
       " (frozenset({7, 17}), frozenset({41}), 41, 1.0),\n",
       " (frozenset({7, 19}), frozenset({41}), 41, 1.0),\n",
       " (frozenset({7, 20}), frozenset({41}), 41, 1.0),\n",
       " (frozenset({7}), frozenset({41}), 41, 1.0)]"
      ]
     },
     "execution_count": 16,
     "metadata": {},
     "output_type": "execute_result"
    }
   ],
   "source": [
    "#Now we can generate all association rules that have consequent \n",
    "#equal to one of the class values and >80% confidence (i.e. classification rules):\n",
    "rules = [(P, Q, supp, conf) for P, Q, supp, conf in association_rules(itemsets, .8) if len(Q) == 1 and Q & class_items]\n",
    "len(rules)\n",
    "rules"
   ]
  },
  {
   "cell_type": "code",
   "execution_count": 17,
   "metadata": {},
   "outputs": [
    {
     "name": "stdout",
     "output_type": "stream",
     "text": [
      "feathers=0, milk=1, backbone=1, breathes=1, venomous=0 --> type=mammal (supp: 41, conf: 1.0)\n",
      "backbone=1, feathers=0, breathes=1, milk=1 --> type=mammal (supp: 41, conf: 1.0)\n",
      "backbone=1, feathers=0, venomous=0, milk=1 --> type=mammal (supp: 41, conf: 1.0)\n",
      "feathers=0, breathes=1, venomous=0, milk=1 --> type=mammal (supp: 41, conf: 1.0)\n",
      "backbone=1, feathers=0, breathes=1, venomous=0 --> type=mammal (supp: 41, conf: 0.8723404255319149)\n",
      "backbone=1, breathes=1, venomous=0, milk=1 --> type=mammal (supp: 41, conf: 1.0)\n",
      "backbone=1, feathers=0, milk=1 --> type=mammal (supp: 41, conf: 1.0)\n",
      "feathers=0, breathes=1, milk=1 --> type=mammal (supp: 41, conf: 1.0)\n",
      "backbone=1, feathers=0, breathes=1 --> type=mammal (supp: 41, conf: 0.8367346938775511)\n",
      "backbone=1, breathes=1, milk=1 --> type=mammal (supp: 41, conf: 1.0)\n",
      "feathers=0, venomous=0, milk=1 --> type=mammal (supp: 41, conf: 1.0)\n",
      "backbone=1, venomous=0, milk=1 --> type=mammal (supp: 41, conf: 1.0)\n",
      "breathes=1, venomous=0, milk=1 --> type=mammal (supp: 41, conf: 1.0)\n",
      "feathers=0, milk=1 --> type=mammal (supp: 41, conf: 1.0)\n",
      "backbone=1, milk=1 --> type=mammal (supp: 41, conf: 1.0)\n",
      "breathes=1, milk=1 --> type=mammal (supp: 41, conf: 1.0)\n",
      "venomous=0, milk=1 --> type=mammal (supp: 41, conf: 1.0)\n",
      "milk=1 --> type=mammal (supp: 41, conf: 1.0)\n"
     ]
    }
   ],
   "source": [
    "#To make them more helpful, we can use mapping to transform the rules’ \n",
    "#items back into table domain values, e.g. for first five rules:\n",
    "names = {item: '{}={}'.format(var.name, val) for item, var, val in OneHot.decode(mapping, data, mapping)}\n",
    "for ante, cons, supp, conf in rules:\n",
    "     print(', '.join(names[i] for i in ante), '-->', names[next(iter(cons))], '(supp: {}, conf: {})'.format(supp, conf))"
   ]
  },
  {
   "cell_type": "markdown",
   "metadata": {},
   "source": [
    "More examples here: https://orange3-associate.readthedocs.io/en/latest/scripting.html#fpgrowth.frequent_itemsets"
   ]
  }
 ],
 "metadata": {
  "kernelspec": {
   "display_name": "Python 3",
   "language": "python",
   "name": "python3"
  },
  "language_info": {
   "codemirror_mode": {
    "name": "ipython",
    "version": 3
   },
   "file_extension": ".py",
   "mimetype": "text/x-python",
   "name": "python",
   "nbconvert_exporter": "python",
   "pygments_lexer": "ipython3",
   "version": "3.7.4"
  }
 },
 "nbformat": 4,
 "nbformat_minor": 2
}
