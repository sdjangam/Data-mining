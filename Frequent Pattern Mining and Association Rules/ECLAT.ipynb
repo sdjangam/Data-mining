{
 "cells": [
  {
   "cell_type": "markdown",
   "metadata": {},
   "source": [
    "## **ECLAT**\n",
    "The ECLAT algorithm stands for Equivalence Class Clustering and bottom-up Lattice Traversal. It is one of the popular methods of Association Rule mining. It is a more efficient and scalable version of the Apriori algorithm."
   ]
  },
  {
   "cell_type": "markdown",
   "metadata": {},
   "source": [
    "### **Required Libraries**"
   ]
  },
  {
   "cell_type": "code",
   "execution_count": 1,
   "metadata": {},
   "outputs": [
    {
     "name": "stdout",
     "output_type": "stream",
     "text": [
      "Collecting pyECLAT\n",
      "  Downloading pyECLAT-1.0.2-py3-none-any.whl (6.3 kB)\n",
      "Requirement already satisfied: pandas>=0.25.3 in c:\\users\\jgaur\\anaconda3\\lib\\site-packages (from pyECLAT) (1.2.3)\n",
      "Requirement already satisfied: tqdm>=4.41.1 in c:\\users\\jgaur\\anaconda3\\lib\\site-packages (from pyECLAT) (4.50.2)\n",
      "Requirement already satisfied: numpy>=1.17.4 in c:\\users\\jgaur\\anaconda3\\lib\\site-packages (from pyECLAT) (1.19.2)\n",
      "Requirement already satisfied: python-dateutil>=2.7.3 in c:\\users\\jgaur\\anaconda3\\lib\\site-packages (from pandas>=0.25.3->pyECLAT) (2.8.1)\n",
      "Requirement already satisfied: pytz>=2017.3 in c:\\users\\jgaur\\anaconda3\\lib\\site-packages (from pandas>=0.25.3->pyECLAT) (2020.1)\n",
      "Requirement already satisfied: six>=1.5 in c:\\users\\jgaur\\anaconda3\\lib\\site-packages (from python-dateutil>=2.7.3->pandas>=0.25.3->pyECLAT) (1.15.0)\n",
      "Installing collected packages: pyECLAT\n",
      "Successfully installed pyECLAT-1.0.2\n"
     ]
    }
   ],
   "source": [
    "!pip install pyECLAT"
   ]
  },
  {
   "cell_type": "code",
   "execution_count": 7,
   "metadata": {},
   "outputs": [],
   "source": [
    "import pandas as pd\n",
    "from pyECLAT import ECLAT"
   ]
  },
  {
   "cell_type": "code",
   "execution_count": 3,
   "metadata": {},
   "outputs": [],
   "source": [
    "# store the item sets as lists of strings in a list\n",
    "transactions = [\n",
    "    ['beer', 'wine', 'cheese'],\n",
    "    ['beer', 'potato chips'],\n",
    "    ['eggs', 'flower', 'butter', 'cheese'],\n",
    "    ['eggs', 'flower', 'butter', 'beer', 'potato chips'],\n",
    "    ['wine', 'cheese'],\n",
    "    ['potato chips'],\n",
    "    ['eggs', 'flower', 'butter', 'wine', 'cheese'],\n",
    "    ['eggs', 'flower', 'butter', 'beer', 'potato chips'],\n",
    "    ['wine', 'beer'],\n",
    "    ['beer', 'potato chips'],\n",
    "    ['butter', 'eggs'],\n",
    "    ['beer', 'potato chips'],\n",
    "    ['flower', 'eggs'],\n",
    "    ['beer', 'potato chips'],\n",
    "    ['eggs', 'flower', 'butter', 'wine', 'cheese'],\n",
    "    ['beer', 'wine', 'potato chips', 'cheese'],\n",
    "    ['wine', 'cheese'],\n",
    "    ['beer', 'potato chips'],\n",
    "    ['wine', 'cheese'],\n",
    "    ['beer', 'potato chips']\n",
    "]"
   ]
  },
  {
   "cell_type": "code",
   "execution_count": 4,
   "metadata": {},
   "outputs": [],
   "source": [
    "df = pd.DataFrame(transactions)"
   ]
  },
  {
   "cell_type": "code",
   "execution_count": 5,
   "metadata": {},
   "outputs": [
    {
     "data": {
      "text/html": [
       "<div>\n",
       "<style scoped>\n",
       "    .dataframe tbody tr th:only-of-type {\n",
       "        vertical-align: middle;\n",
       "    }\n",
       "\n",
       "    .dataframe tbody tr th {\n",
       "        vertical-align: top;\n",
       "    }\n",
       "\n",
       "    .dataframe thead th {\n",
       "        text-align: right;\n",
       "    }\n",
       "</style>\n",
       "<table border=\"1\" class=\"dataframe\">\n",
       "  <thead>\n",
       "    <tr style=\"text-align: right;\">\n",
       "      <th></th>\n",
       "      <th>0</th>\n",
       "      <th>1</th>\n",
       "      <th>2</th>\n",
       "      <th>3</th>\n",
       "      <th>4</th>\n",
       "    </tr>\n",
       "  </thead>\n",
       "  <tbody>\n",
       "    <tr>\n",
       "      <th>0</th>\n",
       "      <td>beer</td>\n",
       "      <td>wine</td>\n",
       "      <td>cheese</td>\n",
       "      <td>None</td>\n",
       "      <td>None</td>\n",
       "    </tr>\n",
       "    <tr>\n",
       "      <th>1</th>\n",
       "      <td>beer</td>\n",
       "      <td>potato chips</td>\n",
       "      <td>None</td>\n",
       "      <td>None</td>\n",
       "      <td>None</td>\n",
       "    </tr>\n",
       "    <tr>\n",
       "      <th>2</th>\n",
       "      <td>eggs</td>\n",
       "      <td>flower</td>\n",
       "      <td>butter</td>\n",
       "      <td>cheese</td>\n",
       "      <td>None</td>\n",
       "    </tr>\n",
       "    <tr>\n",
       "      <th>3</th>\n",
       "      <td>eggs</td>\n",
       "      <td>flower</td>\n",
       "      <td>butter</td>\n",
       "      <td>beer</td>\n",
       "      <td>potato chips</td>\n",
       "    </tr>\n",
       "    <tr>\n",
       "      <th>4</th>\n",
       "      <td>wine</td>\n",
       "      <td>cheese</td>\n",
       "      <td>None</td>\n",
       "      <td>None</td>\n",
       "      <td>None</td>\n",
       "    </tr>\n",
       "  </tbody>\n",
       "</table>\n",
       "</div>"
      ],
      "text/plain": [
       "      0             1       2       3             4\n",
       "0  beer          wine  cheese    None          None\n",
       "1  beer  potato chips    None    None          None\n",
       "2  eggs        flower  butter  cheese          None\n",
       "3  eggs        flower  butter    beer  potato chips\n",
       "4  wine        cheese    None    None          None"
      ]
     },
     "execution_count": 5,
     "metadata": {},
     "output_type": "execute_result"
    }
   ],
   "source": [
    "df.head() ''' displaying first five rows '''"
   ]
  },
  {
   "cell_type": "code",
   "execution_count": 6,
   "metadata": {},
   "outputs": [],
   "source": [
    "''' we are looking for itemSETS '''\n",
    "'''we do not want to have any individual products returned'''\n",
    "min_n_products = 2\n",
    "\n",
    "'''we want to set min support to 7'''\n",
    "'''but we have to express it as a percentage'''\n",
    "min_support = 7/len(transactions)\n",
    "\n",
    "'''we have no limit on the size of association rules'''\n",
    "'so we set it to the longest transaction'''\n",
    "max_length = max([len(x) for x in transactions])"
   ]
  },
  {
   "cell_type": "markdown",
   "metadata": {},
   "source": [
    "### **How does ECLAT work?**\n",
    "The ECLAT algorithm stands for Equivalence Class Clustering and bottom-up Lattice Traversal. ... While the Apriori algorithm works in a horizontal sense imitating the Breadth-First Search of a graph, the ECLAT algorithm works in a vertical manner just like the Depth-First Search of a graph."
   ]
  },
  {
   "cell_type": "code",
   "execution_count": 11,
   "metadata": {},
   "outputs": [
    {
     "name": "stderr",
     "output_type": "stream",
     "text": [
      "100%|███████████████████████████████████████████████████████████████████████████████████████████████████████████████████████████████████| 8/8 [00:00<00:00, 135.94it/s]\n",
      "100%|████████████████████████████████████████████████████████████████████████████████████████████████████████████████████████████████████████████| 8/8 [00:00<?, ?it/s]\n",
      "100%|████████████████████████████████████████████████████████████████████████████████████████████████████████████████████████████████████| 8/8 [00:00<00:00, 98.83it/s]\n"
     ]
    }
   ],
   "source": [
    "''' create an instance of eclat '''\n",
    "my_eclat = ECLAT(data=df, verbose=True)"
   ]
  },
  {
   "cell_type": "code",
   "execution_count": 12,
   "metadata": {},
   "outputs": [
    {
     "name": "stderr",
     "output_type": "stream",
     "text": [
      "10it [00:00, 73.60it/s]\n",
      "10it [00:00, 133.64it/s]"
     ]
    },
    {
     "name": "stdout",
     "output_type": "stream",
     "text": [
      "Combination 2 by 2\n",
      "Combination 3 by 3\n"
     ]
    },
    {
     "name": "stderr",
     "output_type": "stream",
     "text": [
      "\n",
      "5it [00:00, 116.59it/s]\n",
      "1it [00:00, 100.22it/s]"
     ]
    },
    {
     "name": "stdout",
     "output_type": "stream",
     "text": [
      "Combination 4 by 4\n",
      "Combination 5 by 5\n"
     ]
    },
    {
     "name": "stderr",
     "output_type": "stream",
     "text": [
      "\n"
     ]
    }
   ],
   "source": [
    "'''fit the algorithm'''\n",
    "rule_indices, rule_supports = my_eclat.fit(min_support=min_support,\n",
    "                                           min_combination=min_n_products,\n",
    "                                           max_combination=max_length)"
   ]
  },
  {
   "cell_type": "code",
   "execution_count": 13,
   "metadata": {},
   "outputs": [
    {
     "name": "stdout",
     "output_type": "stream",
     "text": [
      "{'wine & cheese': 0.35, 'potato chips & beer': 0.45}\n"
     ]
    }
   ],
   "source": [
    "''' printing results '''\n",
    "print(rule_supports)"
   ]
  },
  {
   "cell_type": "code",
   "execution_count": null,
   "metadata": {},
   "outputs": [],
   "source": []
  },
  {
   "cell_type": "code",
   "execution_count": null,
   "metadata": {},
   "outputs": [],
   "source": []
  },
  {
   "cell_type": "code",
   "execution_count": null,
   "metadata": {},
   "outputs": [],
   "source": []
  },
  {
   "cell_type": "code",
   "execution_count": null,
   "metadata": {},
   "outputs": [],
   "source": []
  }
 ],
 "metadata": {
  "kernelspec": {
   "display_name": "Python 3",
   "language": "python",
   "name": "python3"
  },
  "language_info": {
   "codemirror_mode": {
    "name": "ipython",
    "version": 3
   },
   "file_extension": ".py",
   "mimetype": "text/x-python",
   "name": "python",
   "nbconvert_exporter": "python",
   "pygments_lexer": "ipython3",
   "version": "3.8.5"
  }
 },
 "nbformat": 4,
 "nbformat_minor": 4
}
