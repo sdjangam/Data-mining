{
 "cells": [
  {
   "cell_type": "code",
   "execution_count": 4,
   "metadata": {},
   "outputs": [
    {
     "name": "stdout",
     "output_type": "stream",
     "text": [
      "Collecting size-constrained-clustering\n",
      "  Using cached size_constrained_clustering-0.1.1.tar.gz (52 kB)\n",
      "Note: you may need to restart the kernel to use updated packages.\n"
     ]
    },
    {
     "name": "stderr",
     "output_type": "stream",
     "text": [
      "    ERROR: Command errored out with exit status 1:\n",
      "     command: 'C:\\Users\\jgaur\\anaconda3\\python.exe' -c 'import sys, setuptools, tokenize; sys.argv[0] = '\"'\"'C:\\\\Users\\\\jgaur\\\\AppData\\\\Local\\\\Temp\\\\pip-install-sbq0equo\\\\size-constrained-clustering\\\\setup.py'\"'\"'; __file__='\"'\"'C:\\\\Users\\\\jgaur\\\\AppData\\\\Local\\\\Temp\\\\pip-install-sbq0equo\\\\size-constrained-clustering\\\\setup.py'\"'\"';f=getattr(tokenize, '\"'\"'open'\"'\"', open)(__file__);code=f.read().replace('\"'\"'\\r\\n'\"'\"', '\"'\"'\\n'\"'\"');f.close();exec(compile(code, __file__, '\"'\"'exec'\"'\"'))' egg_info --egg-base 'C:\\Users\\jgaur\\AppData\\Local\\Temp\\pip-pip-egg-info-n0a8t57s'\n",
      "         cwd: C:\\Users\\jgaur\\AppData\\Local\\Temp\\pip-install-sbq0equo\\size-constrained-clustering\\\n",
      "    Complete output (11 lines):\n",
      "    Traceback (most recent call last):\n",
      "      File \"<string>\", line 1, in <module>\n",
      "      File \"C:\\Users\\jgaur\\AppData\\Local\\Temp\\pip-install-sbq0equo\\size-constrained-clustering\\setup.py\", line 63, in <module>\n",
      "        extensions = cythonize(extensions, compiler_directives=compiler_directives)\n",
      "      File \"C:\\Users\\jgaur\\anaconda3\\lib\\site-packages\\Cython\\Build\\Dependencies.py\", line 959, in cythonize\n",
      "        module_list, module_metadata = create_extension_list(\n",
      "      File \"C:\\Users\\jgaur\\anaconda3\\lib\\site-packages\\Cython\\Build\\Dependencies.py\", line 810, in create_extension_list\n",
      "        for file in nonempty(sorted(extended_iglob(filepattern)), \"'%s' doesn't match any files\" % filepattern):\n",
      "      File \"C:\\Users\\jgaur\\anaconda3\\lib\\site-packages\\Cython\\Build\\Dependencies.py\", line 109, in nonempty\n",
      "        raise ValueError(error_msg)\n",
      "    ValueError: 'C:\\Users\\jgaur\\AppData\\Local\\Temp\\pip-install-sbq0equo\\size-constrained-clustering\\size_constrained_clustering/k_means_constrained/mincostflow_vectorized_.pyx' doesn't match any files\n",
      "    ----------------------------------------\n",
      "ERROR: Command errored out with exit status 1: python setup.py egg_info Check the logs for full command output.\n"
     ]
    }
   ],
   "source": [
    "pip install size-constrained-clustering"
   ]
  },
  {
   "cell_type": "code",
   "execution_count": 2,
   "metadata": {},
   "outputs": [
    {
     "ename": "ModuleNotFoundError",
     "evalue": "No module named 'size_constrained_clustering'",
     "output_type": "error",
     "traceback": [
      "\u001b[1;31m---------------------------------------------------------------------------\u001b[0m",
      "\u001b[1;31mModuleNotFoundError\u001b[0m                       Traceback (most recent call last)",
      "\u001b[1;32m<ipython-input-2-d87d44b3d502>\u001b[0m in \u001b[0;36m<module>\u001b[1;34m\u001b[0m\n\u001b[1;32m----> 1\u001b[1;33m \u001b[1;32mfrom\u001b[0m \u001b[0msize_constrained_clustering\u001b[0m \u001b[1;32mimport\u001b[0m \u001b[0mfcm\u001b[0m\u001b[1;33m,\u001b[0m \u001b[0mequal\u001b[0m\u001b[1;33m,\u001b[0m \u001b[0mminmax\u001b[0m\u001b[1;33m,\u001b[0m \u001b[0mshrinkage\u001b[0m\u001b[1;33m\u001b[0m\u001b[1;33m\u001b[0m\u001b[0m\n\u001b[0m\u001b[0;32m      2\u001b[0m \u001b[1;31m# by default it is euclidean distance, but can select others\u001b[0m\u001b[1;33m\u001b[0m\u001b[1;33m\u001b[0m\u001b[1;33m\u001b[0m\u001b[0m\n\u001b[0;32m      3\u001b[0m \u001b[1;32mfrom\u001b[0m \u001b[0msklearn\u001b[0m\u001b[1;33m.\u001b[0m\u001b[0mmetrics\u001b[0m\u001b[1;33m.\u001b[0m\u001b[0mpairwise\u001b[0m \u001b[1;32mimport\u001b[0m \u001b[0mhaversine_distances\u001b[0m\u001b[1;33m\u001b[0m\u001b[1;33m\u001b[0m\u001b[0m\n\u001b[0;32m      4\u001b[0m \u001b[1;32mimport\u001b[0m \u001b[0mnumpy\u001b[0m \u001b[1;32mas\u001b[0m \u001b[0mnp\u001b[0m\u001b[1;33m\u001b[0m\u001b[1;33m\u001b[0m\u001b[0m\n",
      "\u001b[1;31mModuleNotFoundError\u001b[0m: No module named 'size_constrained_clustering'"
     ]
    }
   ],
   "source": [
    "from size_constrained_clustering import fcm, equal, minmax, shrinkage\n",
    "# by default it is euclidean distance, but can select others\n",
    "from sklearn.metrics.pairwise import haversine_distances\n",
    "import numpy as np"
   ]
  },
  {
   "cell_type": "code",
   "execution_count": null,
   "metadata": {},
   "outputs": [],
   "source": [
    "n_samples = 2000\n",
    "n_clusters = 4\n",
    "centers = [(-5, -5), (0, 0), (5, 5), (7, 10)]\n",
    "X, _ = make_blobs(n_samples=n_samples, n_features=2, cluster_std=1.0,\n",
    "                    centers=centers, shuffle=False, random_state=42)\n",
    "model = fcm.FCM(n_clusters)\n",
    "# use other distance function: e.g. haversine distance\n",
    "# model = fcm.FCM(n_clusters, distance_func=haversine_distances)\n",
    "model.fit(X)\n",
    "centers = model.cluster_centers_\n",
    "labels = model.labels_"
   ]
  },
  {
   "cell_type": "code",
   "execution_count": null,
   "metadata": {},
   "outputs": [],
   "source": []
  },
  {
   "cell_type": "code",
   "execution_count": null,
   "metadata": {},
   "outputs": [],
   "source": []
  },
  {
   "cell_type": "code",
   "execution_count": null,
   "metadata": {},
   "outputs": [],
   "source": []
  },
  {
   "cell_type": "code",
   "execution_count": null,
   "metadata": {},
   "outputs": [],
   "source": []
  },
  {
   "cell_type": "code",
   "execution_count": null,
   "metadata": {},
   "outputs": [],
   "source": []
  },
  {
   "cell_type": "code",
   "execution_count": null,
   "metadata": {},
   "outputs": [],
   "source": []
  },
  {
   "cell_type": "code",
   "execution_count": null,
   "metadata": {},
   "outputs": [],
   "source": []
  }
 ],
 "metadata": {
  "kernelspec": {
   "display_name": "Python 3",
   "language": "python",
   "name": "python3"
  },
  "language_info": {
   "codemirror_mode": {
    "name": "ipython",
    "version": 3
   },
   "file_extension": ".py",
   "mimetype": "text/x-python",
   "name": "python",
   "nbconvert_exporter": "python",
   "pygments_lexer": "ipython3",
   "version": "3.8.5"
  }
 },
 "nbformat": 4,
 "nbformat_minor": 4
}
