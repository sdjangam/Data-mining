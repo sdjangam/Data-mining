{
 "cells": [
  {
   "cell_type": "markdown",
   "metadata": {},
   "source": [
    "## **F-P Growth Algorithm**\n",
    "FP-growth is an improved version of the Apriori Algorithm which is widely used for frequent pattern mining(AKA Association Rule Mining). ... The Apriori Algorithm produces frequent patterns by generating itemsets and discovering the most frequent itemset over a threshold “minimal support count”."
   ]
  },
  {
   "cell_type": "markdown",
   "metadata": {},
   "source": [
    "### **Required Algorithm**"
   ]
  },
  {
   "cell_type": "code",
   "execution_count": 1,
   "metadata": {},
   "outputs": [
    {
     "name": "stdout",
     "output_type": "stream",
     "text": [
      "Collecting pyfpgrowth\n",
      "  Downloading pyfpgrowth-1.0.tar.gz (1.6 MB)\n",
      "Building wheels for collected packages: pyfpgrowth\n",
      "  Building wheel for pyfpgrowth (setup.py): started\n",
      "  Building wheel for pyfpgrowth (setup.py): finished with status 'done'\n",
      "  Created wheel for pyfpgrowth: filename=pyfpgrowth-1.0-py2.py3-none-any.whl size=5485 sha256=a2c04660a3a46814349f6086521118a7e8046f8f6f63cd50616cd7956e0ff5a9\n",
      "  Stored in directory: c:\\users\\jgaur\\appdata\\local\\pip\\cache\\wheels\\29\\e2\\a7\\ccb34c35e2c6737d3f09b53784f4323b7ff556a5f02096c70d\n",
      "Successfully built pyfpgrowth\n",
      "Installing collected packages: pyfpgrowth\n",
      "Successfully installed pyfpgrowth-1.0\n"
     ]
    }
   ],
   "source": [
    "!pip install pyfpgrowth"
   ]
  },
  {
   "cell_type": "code",
   "execution_count": 2,
   "metadata": {},
   "outputs": [],
   "source": [
    "import pyfpgrowth"
   ]
  },
  {
   "cell_type": "code",
   "execution_count": 3,
   "metadata": {},
   "outputs": [],
   "source": [
    "transactions = [\n",
    "     ['Milk', 'Bread', 'Saffron'],\n",
    "     ['Milk', 'Saffron'],\n",
    "     ['Bread', 'Saffron','Wafer'],\n",
    "     ['Bread','Wafer'],\n",
    " ]"
   ]
  },
  {
   "cell_type": "code",
   "execution_count": 4,
   "metadata": {},
   "outputs": [
    {
     "name": "stdout",
     "output_type": "stream",
     "text": [
      "{('Milk',): 2, ('Milk', 'Saffron'): 2, ('Bread', 'Milk'): 1, ('Bread', 'Milk', 'Saffron'): 1, ('Wafer',): 2, ('Saffron', 'Wafer'): 1, ('Bread', 'Wafer'): 2, ('Bread', 'Saffron', 'Wafer'): 1, ('Bread',): 3, ('Saffron',): 3, ('Bread', 'Saffron'): 2}\n"
     ]
    }
   ],
   "source": [
    "'''Finding the frequent patterns with min support threshold=0.5'''\n",
    "FrequentPatterns = pyfpgrowth.find_frequent_patterns(transactions=transactions,support_threshold=0.5)\n",
    "print(FrequentPatterns)"
   ]
  },
  {
   "cell_type": "code",
   "execution_count": 5,
   "metadata": {},
   "outputs": [],
   "source": [
    "Rules = pyfpgrowth.generate_association_rules(patterns=FrequentPatterns,confidence_threshold=0.5)"
   ]
  },
  {
   "cell_type": "code",
   "execution_count": 6,
   "metadata": {},
   "outputs": [
    {
     "data": {
      "text/plain": [
       "{('Milk',): (('Bread', 'Saffron'), 0.5),\n",
       " ('Saffron',): (('Bread',), 0.6666666666666666),\n",
       " ('Bread', 'Milk'): (('Saffron',), 1.0),\n",
       " ('Bread', 'Saffron'): (('Wafer',), 0.5),\n",
       " ('Milk', 'Saffron'): (('Bread',), 0.5),\n",
       " ('Wafer',): (('Bread', 'Saffron'), 0.5),\n",
       " ('Bread',): (('Saffron',), 0.6666666666666666),\n",
       " ('Bread', 'Wafer'): (('Saffron',), 0.5),\n",
       " ('Saffron', 'Wafer'): (('Bread',), 1.0)}"
      ]
     },
     "execution_count": 6,
     "metadata": {},
     "output_type": "execute_result"
    }
   ],
   "source": [
    "Rules"
   ]
  },
  {
   "cell_type": "code",
   "execution_count": null,
   "metadata": {},
   "outputs": [],
   "source": []
  }
 ],
 "metadata": {
  "kernelspec": {
   "display_name": "Python 3",
   "language": "python",
   "name": "python3"
  },
  "language_info": {
   "codemirror_mode": {
    "name": "ipython",
    "version": 3
   },
   "file_extension": ".py",
   "mimetype": "text/x-python",
   "name": "python",
   "nbconvert_exporter": "python",
   "pygments_lexer": "ipython3",
   "version": "3.8.5"
  }
 },
 "nbformat": 4,
 "nbformat_minor": 4
}
